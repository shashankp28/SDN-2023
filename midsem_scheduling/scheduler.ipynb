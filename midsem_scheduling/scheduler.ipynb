{
 "cells": [
  {
   "cell_type": "markdown",
   "metadata": {},
   "source": [
    "# Imports"
   ]
  },
  {
   "cell_type": "code",
   "execution_count": 190,
   "metadata": {},
   "outputs": [],
   "source": [
    "import gurobipy as gp\n",
    "from gurobipy import GRB, quicksum, max_\n",
    "import random\n",
    "from time import time\n",
    "random.seed(10)"
   ]
  },
  {
   "cell_type": "markdown",
   "metadata": {},
   "source": [
    "# Utils"
   ]
  },
  {
   "cell_type": "code",
   "execution_count": 191,
   "metadata": {},
   "outputs": [],
   "source": [
    "def gsk(dict):\n",
    "    return sorted(list(dict.keys()))"
   ]
  },
  {
   "cell_type": "markdown",
   "metadata": {},
   "source": [
    "# Inputs"
   ]
  },
  {
   "cell_type": "code",
   "execution_count": 192,
   "metadata": {},
   "outputs": [
    {
     "name": "stdout",
     "output_type": "stream",
     "text": [
      "Data Created\n"
     ]
    }
   ],
   "source": [
    "slots = list(range(0, 20))\n",
    "campuses = list(range(0, 2))\n",
    "courses = {i: {\"campus\": random.choice(campuses), \"is_lab\": random.uniform(0, 1)>0.85} for i in range(0, 8)}\n",
    "students = {i: set(random.sample(gsk(courses), random.randint(3, 6))) for i in range(0, 30)}\n",
    "venues = {i: {\"campus\": random.choice(campuses), \"capacity\": random.randint(20, 40)} for i in range(0, 10)}\n",
    "print(\"Data Created\")"
   ]
  },
  {
   "cell_type": "markdown",
   "metadata": {},
   "source": [
    "# Model"
   ]
  },
  {
   "cell_type": "code",
   "execution_count": 193,
   "metadata": {},
   "outputs": [
    {
     "name": "stdout",
     "output_type": "stream",
     "text": [
      "Model Created\n",
      "Decision Variables Created: 48000\n"
     ]
    }
   ],
   "source": [
    "model = gp.Model(\"Midsem_Scheduling\")\n",
    "print(\"Model Created\")\n",
    "X = {}\n",
    "for slot in slots:\n",
    "    for course in gsk(courses):\n",
    "        for venue in gsk(venues):\n",
    "            for student in gsk(students):\n",
    "                X[slot, course, venue, student] = model.addVar(vtype=GRB.BINARY, name=f'X_{slot}_{course}_{venue}_{student}')\n",
    "print(f\"Decision Variables Created: {len(X)}\")"
   ]
  },
  {
   "cell_type": "markdown",
   "metadata": {},
   "source": [
    "# Constraints"
   ]
  },
  {
   "cell_type": "markdown",
   "metadata": {},
   "source": [
    "### 1. Each student must have exactly 1 exam for each course enrolled in, and 0 if not enrolled"
   ]
  },
  {
   "cell_type": "code",
   "execution_count": 194,
   "metadata": {},
   "outputs": [],
   "source": [
    "for student in gsk(students):\n",
    "    for course in gsk(courses):\n",
    "        model.addConstr(quicksum(X[slot, course, venue, student] \n",
    "                                    for slot in slots\n",
    "                                    for venue in gsk(venues)) == int(course in students[student]),\n",
    "                        name=f'1_{student}_{course}')"
   ]
  },
  {
   "cell_type": "markdown",
   "metadata": {},
   "source": [
    "### 2. Theory courses are scheduled in a single slot"
   ]
  },
  {
   "cell_type": "code",
   "execution_count": 195,
   "metadata": {},
   "outputs": [],
   "source": [
    "slot_course_scheduled = {}\n",
    "for course in gsk(courses):\n",
    "    for slot in slots:\n",
    "        slot_course_scheduled[course, slot] = model.addVar(vtype=GRB.BINARY, name=f'slot_course_scheduled_{slot}_{course}')\n",
    "        \n",
    "for course in gsk(courses):\n",
    "    for slot in slots:\n",
    "        model.addConstr(slot_course_scheduled[course, slot] == max_(X[slot, course, venue, student]\n",
    "                                                                    for venue in gsk(venues)\n",
    "                                                                    for student in gsk(students)),\n",
    "                        name=f'2_{course}_{slot}')\n",
    "\n",
    "for course in courses:\n",
    "    if courses[course][\"is_lab\"]:\n",
    "        continue\n",
    "    total = gp.quicksum(X[slot, course, venue, student]\n",
    "                        for venue in venues\n",
    "                        for student in students\n",
    "                        for slot in slots)\n",
    "    for slot in slots:\n",
    "        sub_sum = gp.quicksum(X[slot, course, venue, student]\n",
    "                              for venue in venues\n",
    "                              for student in students)\n",
    "        model.addConstr(slot_course_scheduled[course, slot]*total == slot_course_scheduled[course, slot]*sub_sum, name=f'3_constraint_{course}_{slot}')"
   ]
  },
  {
   "cell_type": "markdown",
   "metadata": {},
   "source": [
    "### 3. Total strength should not exceed venue capacity"
   ]
  },
  {
   "cell_type": "code",
   "execution_count": 196,
   "metadata": {},
   "outputs": [],
   "source": [
    "for slot in slots:\n",
    "    for venue in gsk(venues):\n",
    "        model.addConstr(quicksum(X[slot, course, venue, student]\n",
    "                                 for course in gsk(courses)\n",
    "                                 for student in gsk(students)) <= venues[venue][\"capacity\"],\n",
    "                        name=f'4_{slot}_{venue}')"
   ]
  },
  {
   "cell_type": "markdown",
   "metadata": {},
   "source": [
    "### 4. Each course must be sheduled at the designated campus"
   ]
  },
  {
   "cell_type": "code",
   "execution_count": 197,
   "metadata": {},
   "outputs": [],
   "source": [
    "for course in gsk(courses):\n",
    "    course_campus = courses[course][\"campus\"]\n",
    "    for venue in gsk(venues):\n",
    "        venue_campus = venues[venue][\"campus\"]\n",
    "        if course_campus != venue_campus:\n",
    "            model.addConstr(quicksum(X[slot, course, venue, student]\n",
    "                                        for student in gsk(students)\n",
    "                                        for slot in slots) == 0,\n",
    "                            name=f'5_{course}_{venue}')"
   ]
  },
  {
   "cell_type": "markdown",
   "metadata": {},
   "source": [
    "### 5. Each student has atmost one exam per day"
   ]
  },
  {
   "cell_type": "code",
   "execution_count": 198,
   "metadata": {},
   "outputs": [],
   "source": [
    "for student in students:\n",
    "    for slot in slots:\n",
    "        if slot%2==0:\n",
    "            model.addConstr(quicksum(X[s, course, venue, student] \n",
    "                                    for course in gsk(courses)\n",
    "                                    for venue in gsk(venues)\n",
    "                                    for s in range(slot, slot+2)) <= 1,\n",
    "                            name=f'6_{student}_{slot}')"
   ]
  },
  {
   "cell_type": "markdown",
   "metadata": {},
   "source": [
    "### 6. In the one slot and one venue there cant be multiple courses scheduled"
   ]
  },
  {
   "cell_type": "code",
   "execution_count": 199,
   "metadata": {},
   "outputs": [],
   "source": [
    "slot_venue_course_scheduled = {}\n",
    "for slot in slots:\n",
    "    for venue in gsk(venues):\n",
    "        for course in gsk(courses):\n",
    "            slot_venue_course_scheduled[slot, venue, course] = model.addVar(vtype=GRB.BINARY, name=f'slot_venue_course_scheduled_{slot}_{venue}_{course}')\n",
    "        \n",
    "for slot in slots:\n",
    "    for venue in gsk(venues):\n",
    "        for course in gsk(courses):\n",
    "            model.addConstr(slot_venue_course_scheduled[slot, venue, course] == max_(X[slot, course, venue, student]\n",
    "                                                                        for student in gsk(students)),\n",
    "                            name=f'7_{slot}_{venue}_{course}')\n",
    "\n",
    "for slot in slots:\n",
    "    for venue in gsk(venues):\n",
    "        model.addConstr(quicksum(slot_venue_course_scheduled[slot, venue, course]\n",
    "                                 for course in gsk(courses)) <= 1,\n",
    "                        name=f'8_{slot}_{venue}')"
   ]
  },
  {
   "cell_type": "markdown",
   "metadata": {},
   "source": [
    "# Objective\n",
    "### Minimize number of slots used"
   ]
  },
  {
   "cell_type": "code",
   "execution_count": 200,
   "metadata": {},
   "outputs": [],
   "source": [
    "slot_scheduled = {}\n",
    "for slot in slots:\n",
    "    slot_scheduled[slot] = model.addVar(vtype=GRB.BINARY, name=f'slot_scheduled_{slot}')\n",
    "\n",
    "for slot in slots:\n",
    "    model.addConstr(slot_scheduled[slot] == max_(slot_course_scheduled[course, slot] for course in gsk(courses)),\n",
    "                    name=f'objective_{slot}')\n",
    "\n",
    "model.setObjective(\n",
    "    quicksum(slot_scheduled[slot] for slot in slots),\n",
    "    GRB.MINIMIZE )"
   ]
  },
  {
   "cell_type": "markdown",
   "metadata": {},
   "source": [
    "# Optimize"
   ]
  },
  {
   "cell_type": "code",
   "execution_count": 201,
   "metadata": {},
   "outputs": [
    {
     "name": "stdout",
     "output_type": "stream",
     "text": [
      "Gurobi Optimizer version 10.0.2 build v10.0.2rc0 (linux64)\n",
      "\n",
      "CPU model: Intel(R) Core(TM) i7-10750H CPU @ 2.60GHz, instruction set [SSE2|AVX|AVX2]\n",
      "Thread count: 6 physical cores, 12 logical processors, using up to 12 threads\n",
      "\n",
      "Optimize a model with 982 rows, 49780 columns and 170800 nonzeros\n",
      "Model fingerprint: 0x28724614\n",
      "Model has 140 quadratic constraints\n",
      "Model has 1780 general constraints\n",
      "Variable types: 0 continuous, 49780 integer (49780 binary)\n",
      "Coefficient statistics:\n",
      "  Matrix range     [1e+00, 1e+00]\n",
      "  QMatrix range    [1e+00, 1e+00]\n",
      "  Objective range  [1e+00, 1e+00]\n",
      "  Bounds range     [1e+00, 1e+00]\n",
      "  RHS range        [1e+00, 4e+01]\n",
      "Presolve removed 11033 rows and 35080 columns (presolve time = 5s) ...\n",
      "Presolve added 246327 rows and 0 columns\n",
      "Presolve removed 0 rows and 35080 columns\n",
      "Presolve time: 6.70s\n",
      "Presolved: 247309 rows, 14700 columns, 551780 nonzeros\n",
      "Variable types: 0 continuous, 14700 integer (14700 binary)\n",
      "Found heuristic solution: objective 17.0000000\n",
      "\n",
      "Root simplex log...\n",
      "\n",
      "Iteration    Objective       Primal Inf.    Dual Inf.      Time\n",
      "       0    0.0000000e+00   1.200000e+01   0.000000e+00      7s\n",
      "      15    1.0000000e+00   0.000000e+00   0.000000e+00      8s\n",
      "      15    1.0000000e+00   0.000000e+00   0.000000e+00      8s\n",
      "\n",
      "Use crossover to convert LP symmetric solution to basic solution...\n",
      "\n",
      "Root crossover log...\n",
      "\n",
      "       0 DPushes remaining with DInf 0.0000000e+00                 8s\n",
      "\n",
      "    3259 PPushes remaining with PInf 0.0000000e+00                 8s\n",
      "       0 PPushes remaining with PInf 0.0000000e+00                 8s\n",
      "\n",
      "  Push phase complete: Pinf 0.0000000e+00, Dinf 0.0000000e+00      8s\n",
      "\n",
      "\n",
      "Root simplex log...\n",
      "\n",
      "Iteration    Objective       Primal Inf.    Dual Inf.      Time\n",
      "    3278    1.0000000e+00   0.000000e+00   0.000000e+00      8s\n",
      "\n",
      "Root relaxation: objective 1.000000e+00, 3278 iterations, 0.70 seconds (0.88 work units)\n",
      "\n",
      "    Nodes    |    Current Node    |     Objective Bounds      |     Work\n",
      " Expl Unexpl |  Obj  Depth IntInf | Incumbent    BestBd   Gap | It/Node Time\n",
      "\n",
      "     0     0    1.00000    0  996   17.00000    1.00000  94.1%     -   15s\n",
      "H    0     0                      10.0000000    1.00000  90.0%     -   15s\n",
      "     0     0    1.00000    0 1168   10.00000    1.00000  90.0%     -   23s\n",
      "H    0     0                       7.0000000    1.00000  85.7%     -   28s\n",
      "     0     0    1.00000    0  998    7.00000    1.00000  85.7%     -   54s\n",
      "     0     0    1.83333    0 1293    7.00000    1.83333  73.8%     -  108s\n",
      "     0     0    2.00000    0 1628    7.00000    2.00000  71.4%     -  156s\n",
      "     0     0    2.00000    0 1263    7.00000    2.00000  71.4%     -  178s\n",
      "     0     0    2.00000    0 1187    7.00000    2.00000  71.4%     -  194s\n",
      "     0     0    2.00000    0  956    7.00000    2.00000  71.4%     -  198s\n",
      "     0     0    4.66667    0 1071    7.00000    4.66667  33.3%     -  214s\n",
      "     0     0    4.66667    0  789    7.00000    4.66667  33.3%     -  221s\n",
      "     0     0    6.00000    0 1084    7.00000    6.00000  14.3%     -  226s\n",
      "     0     0    6.00000    0  739    7.00000    6.00000  14.3%     -  230s\n",
      "     0     0    6.00000    0 1233    7.00000    6.00000  14.3%     -  236s\n",
      "     0     0    6.00000    0  707    7.00000    6.00000  14.3%     -  238s\n",
      "     0     0    6.00000    0  762    7.00000    6.00000  14.3%     -  246s\n",
      "     0     0    6.00000    0  846    7.00000    6.00000  14.3%     -  248s\n",
      "     0     0    6.00000    0  884    7.00000    6.00000  14.3%     -  255s\n",
      "     0     0    6.00000    0  727    7.00000    6.00000  14.3%     -  259s\n",
      "     0     0    6.00000    0  742    7.00000    6.00000  14.3%     -  265s\n",
      "     0     0    6.00000    0  742    7.00000    6.00000  14.3%     -  269s\n",
      "     0     2    6.00000    0  742    7.00000    6.00000  14.3%     -  286s\n",
      "     2     3    6.00000    1  742    7.00000    6.00000  14.3%  3782  296s\n",
      "\n",
      "Cutting planes:\n",
      "  Gomory: 6\n",
      "  MIR: 52\n",
      "  Zero half: 151\n",
      "  RLT: 4\n",
      "\n",
      "Explored 4 nodes (217123 simplex iterations) in 300.00 seconds (1175.98 work units)\n",
      "Thread count was 12 (of 12 available processors)\n",
      "\n",
      "Solution count 3: 7 10 17 \n",
      "\n",
      "Solve interrupted\n",
      "Best objective 7.000000000000e+00, best bound 6.000000000000e+00, gap 14.2857%\n",
      "\n",
      "User-callback calls 16368, time in user-callback 0.12 sec\n"
     ]
    }
   ],
   "source": [
    "start_time = time()\n",
    "max_time = 5*60 # 5 minutes\n",
    "\n",
    "# Terminate the model after 5 minutes\n",
    "def model_callback(model, where):\n",
    "    if max_time < time() - start_time:\n",
    "        model.terminate()\n",
    "\n",
    "model.optimize(callback=model_callback)"
   ]
  },
  {
   "cell_type": "markdown",
   "metadata": {},
   "source": [
    "# Parse the Model"
   ]
  },
  {
   "cell_type": "code",
   "execution_count": 203,
   "metadata": {},
   "outputs": [],
   "source": [
    "def parse_solution(model):\n",
    "    scheduled_exams = []\n",
    "\n",
    "    # Iterate through the decision variables (X) and collect scheduled exams\n",
    "    for slot in slots:\n",
    "        for course in courses:\n",
    "            for venue in venues:\n",
    "                for student in students:\n",
    "                    if X[slot, course, venue, student].x > 0:\n",
    "                        scheduled_exams.append((slot, course, venue, student))\n",
    "\n",
    "    seen_slot = set()\n",
    "    seen_course = set()\n",
    "    with open(\"schedule.txt\", \"w\") as file:\n",
    "        for slot, course, venue, student in scheduled_exams:\n",
    "            if not slot in seen_slot:\n",
    "                seen_slot.add(slot)\n",
    "                file.write(\"-------------------------------------------------\\n\")\n",
    "                file.write(\"\\n\")\n",
    "                file.write(\"\\n\")\n",
    "                file.write(f\"--------------------- SLOT-{slot} --------------------\\n\")\n",
    "                file.write(\"\\n\")\n",
    "            if not (slot, course) in seen_course:\n",
    "                seen_course.add((slot, course))\n",
    "                file.write(\"-------------------------------------------------\\n\")\n",
    "                lab = \"THRY\" if not courses[course][\"is_lab\"] else \"LABS\"\n",
    "                course_name = f\"Course Name ({lab}): {course}\"\n",
    "                file.write(f\"| {course_name:<45} |\\n\")\n",
    "                file.write(\"-------------------------------------------------\\n\")\n",
    "            student_venue = f\"Student: {student:<13} | Venue: {venue:<13}\"\n",
    "            file.write(f\"| {student_venue} |\\n\")\n",
    "        file.write(\"-------------------------------------------------\\n\")\n",
    "\n",
    "\n",
    "parse_solution(model)\n"
   ]
  },
  {
   "cell_type": "code",
   "execution_count": null,
   "metadata": {},
   "outputs": [],
   "source": []
  }
 ],
 "metadata": {
  "kernelspec": {
   "display_name": "env",
   "language": "python",
   "name": "python3"
  },
  "language_info": {
   "codemirror_mode": {
    "name": "ipython",
    "version": 3
   },
   "file_extension": ".py",
   "mimetype": "text/x-python",
   "name": "python",
   "nbconvert_exporter": "python",
   "pygments_lexer": "ipython3",
   "version": "3.10.12"
  },
  "orig_nbformat": 4
 },
 "nbformat": 4,
 "nbformat_minor": 2
}
