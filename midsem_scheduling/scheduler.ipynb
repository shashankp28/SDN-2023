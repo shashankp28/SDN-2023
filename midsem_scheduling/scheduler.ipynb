{
 "cells": [
  {
   "cell_type": "markdown",
   "metadata": {},
   "source": [
    "# Imports"
   ]
  },
  {
   "cell_type": "code",
   "execution_count": 1,
   "metadata": {},
   "outputs": [],
   "source": [
    "import gurobipy as gp\n",
    "from gurobipy import GRB, quicksum, max_\n",
    "import random\n",
    "random.seed(10)"
   ]
  },
  {
   "cell_type": "markdown",
   "metadata": {},
   "source": [
    "# Utils"
   ]
  },
  {
   "cell_type": "code",
   "execution_count": 2,
   "metadata": {},
   "outputs": [],
   "source": [
    "def gsk(dict):\n",
    "    return sorted(list(dict.keys()))"
   ]
  },
  {
   "cell_type": "markdown",
   "metadata": {},
   "source": [
    "# Inputs"
   ]
  },
  {
   "cell_type": "code",
   "execution_count": 3,
   "metadata": {},
   "outputs": [
    {
     "name": "stdout",
     "output_type": "stream",
     "text": [
      "Data Created\n"
     ]
    }
   ],
   "source": [
    "slots = list(range(0, 14))\n",
    "campuses = list(range(0, 3))\n",
    "courses = {i: {\"campus\": random.choice(campuses), \"is_lab\": random.uniform(0, 1)>0.85} for i in range(0, 25)}\n",
    "students = {200010000+i: set(random.sample(gsk(courses), random.randint(4 ,9))) for i in range(0, 200)}\n",
    "venues = {i: {\"campus\": random.choice(campuses), \"capacity\": random.randint(20, 40)} for i in range(0, 30)}\n",
    "print(\"Data Created\")"
   ]
  },
  {
   "cell_type": "markdown",
   "metadata": {},
   "source": [
    "# Model"
   ]
  },
  {
   "cell_type": "code",
   "execution_count": 4,
   "metadata": {},
   "outputs": [
    {
     "name": "stdout",
     "output_type": "stream",
     "text": [
      "Set parameter Username\n",
      "Academic license - for non-commercial use only - expires 2024-09-04\n",
      "Model Created\n",
      "Decision Variables Created: 2100000\n"
     ]
    }
   ],
   "source": [
    "model = gp.Model(\"Midsem_Scheduling\")\n",
    "print(\"Model Created\")\n",
    "X = {}\n",
    "for slot in slots:\n",
    "    for course in gsk(courses):\n",
    "        for venue in gsk(venues):\n",
    "            for student in gsk(students):\n",
    "                X[slot, course, venue, student] = model.addVar(vtype=GRB.BINARY, name=f'X_{slot}_{course}_{venue}_{student}')\n",
    "print(f\"Decision Variables Created: {len(X)}\")"
   ]
  },
  {
   "cell_type": "markdown",
   "metadata": {},
   "source": [
    "# Constraints"
   ]
  },
  {
   "cell_type": "markdown",
   "metadata": {},
   "source": [
    "### 1. Each student must have exactly 1 exam for each course enrolled in, and 0 if not enrolled"
   ]
  },
  {
   "cell_type": "code",
   "execution_count": 5,
   "metadata": {},
   "outputs": [],
   "source": [
    "for student in gsk(students):\n",
    "    for course in gsk(courses):\n",
    "        model.addConstr(quicksum(X[slot, course, venue, student] \n",
    "                                    for slot in slots\n",
    "                                    for venue in gsk(venues)) == int(course in students[student]),\n",
    "                        name=f'1_{student}_{course}')"
   ]
  },
  {
   "cell_type": "markdown",
   "metadata": {},
   "source": [
    "### 2. Student has atmost 1 exam per slot"
   ]
  },
  {
   "cell_type": "code",
   "execution_count": 6,
   "metadata": {},
   "outputs": [],
   "source": [
    "for student in gsk(students):\n",
    "    for slot in slots:\n",
    "        model.addConstr(quicksum(X[slot, course, venue, student] \n",
    "                                    for course in gsk(courses)\n",
    "                                    for venue in gsk(venues)) <= 1,\n",
    "                        name=f'2_{student}_{slot}')"
   ]
  },
  {
   "cell_type": "markdown",
   "metadata": {},
   "source": [
    "### 3. Theory courses are scheduled in a single slot"
   ]
  },
  {
   "cell_type": "code",
   "execution_count": 7,
   "metadata": {},
   "outputs": [],
   "source": [
    "for course in courses:\n",
    "    if courses[course][\"is_lab\"]:\n",
    "        continue\n",
    "    total = gp.quicksum(X[slot, course, venue, student]\n",
    "                        for venue in venues\n",
    "                        for student in students\n",
    "                        for slot in slots)\n",
    "    for slot in slots:\n",
    "        maximum = gp.max_(\n",
    "            X[slot, course, venue, student]\n",
    "            for venue in venues\n",
    "            for student in students\n",
    "        )\n",
    "        sub_sum = gp.quicksum(X[slot, course, venue, student]\n",
    "                              for venue in venues\n",
    "                              for student in students)\n",
    "        maximum_value = model.addVar(\n",
    "            vtype=GRB.BINARY,\n",
    "            name=f'maximum_{course}_{slot}'\n",
    "        )\n",
    "        model.addConstr(maximum_value == maximum, name=f'3_maximum_constraint_{course}_{slot}')\n",
    "        model.addConstr(total == maximum_value * sub_sum, name=f'3_constraint_{course}_{slot}')"
   ]
  },
  {
   "cell_type": "markdown",
   "metadata": {},
   "source": [
    "### 4. Total stength should not exceed venue capacity"
   ]
  },
  {
   "cell_type": "code",
   "execution_count": 8,
   "metadata": {},
   "outputs": [],
   "source": [
    "for slot in slots:\n",
    "    for venue in gsk(venues):\n",
    "        model.addConstr(quicksum(X[slot, course, venue, student]\n",
    "                                 for course in gsk(courses)\n",
    "                                 for student in gsk(students)) <= venues[venue][\"capacity\"],\n",
    "                        name=f'4_{slot}_{venue}')"
   ]
  },
  {
   "cell_type": "markdown",
   "metadata": {},
   "source": [
    "### 5. Each course must be sheduled at the designated campus"
   ]
  },
  {
   "cell_type": "code",
   "execution_count": 9,
   "metadata": {},
   "outputs": [],
   "source": [
    "for course in gsk(courses):\n",
    "    course_campus = courses[course][\"campus\"]\n",
    "    for venue in gsk(venues):\n",
    "        venue_campus = venues[venue][\"campus\"]\n",
    "        if course_campus != venue_campus:\n",
    "            model.addConstr(quicksum(X[slot, course, venue, student]\n",
    "                                        for student in gsk(students)\n",
    "                                        for slot in slots) == 0,\n",
    "                            name=f'5_{course}_{venue}')"
   ]
  },
  {
   "cell_type": "markdown",
   "metadata": {},
   "source": [
    "### 6. Each student has atmost one exam per day"
   ]
  },
  {
   "cell_type": "code",
   "execution_count": 11,
   "metadata": {},
   "outputs": [],
   "source": [
    "for student in students:\n",
    "    for slot in slots:\n",
    "        if slot%2==0:\n",
    "            model.addConstr(quicksum(X[s, course, venue, student] \n",
    "                                    for course in gsk(courses)\n",
    "                                    for venue in gsk(venues)\n",
    "                                    for s in range(slot, slot+2)) <= 1,\n",
    "                            name=f'6_{student}_{slot}')"
   ]
  },
  {
   "cell_type": "markdown",
   "metadata": {},
   "source": [
    "# Objective"
   ]
  },
  {
   "cell_type": "code",
   "execution_count": null,
   "metadata": {},
   "outputs": [],
   "source": []
  }
 ],
 "metadata": {
  "kernelspec": {
   "display_name": "env",
   "language": "python",
   "name": "python3"
  },
  "language_info": {
   "codemirror_mode": {
    "name": "ipython",
    "version": 3
   },
   "file_extension": ".py",
   "mimetype": "text/x-python",
   "name": "python",
   "nbconvert_exporter": "python",
   "pygments_lexer": "ipython3",
   "version": "3.10.12"
  },
  "orig_nbformat": 4
 },
 "nbformat": 4,
 "nbformat_minor": 2
}
