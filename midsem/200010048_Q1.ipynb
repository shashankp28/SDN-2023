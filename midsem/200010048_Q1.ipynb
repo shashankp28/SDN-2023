{
 "cells": [
  {
   "cell_type": "markdown",
   "metadata": {},
   "source": [
    "# Imports"
   ]
  },
  {
   "cell_type": "code",
   "execution_count": 385,
   "metadata": {},
   "outputs": [],
   "source": [
    "import random\n",
    "import gurobipy as gp\n",
    "from gurobipy import GRB, quicksum, max_\n",
    "import matplotlib.pyplot as plt\n",
    "from time import time\n",
    "%matplotlib inline"
   ]
  },
  {
   "cell_type": "markdown",
   "metadata": {},
   "source": [
    "# Utils"
   ]
  },
  {
   "cell_type": "code",
   "execution_count": 386,
   "metadata": {},
   "outputs": [],
   "source": [
    "def distance(p1, p2):\n",
    "    return ((p1[0] - p2[0])**2 + (p1[1] - p2[1])**2)**0.5\n",
    "\n",
    "def distance_matrix_generator(switch_positions):\n",
    "    # N: Number of switches\n",
    "    # scale: Extent of Distance\n",
    "    N = len(switch_positions)\n",
    "    graph = [[0]*N for _ in range(N)]\n",
    "    for i in range(N):\n",
    "        for j in range(i+1, N):\n",
    "            weight = distance(switch_positions[i], switch_positions[j])\n",
    "            graph[i][j] = weight\n",
    "            graph[j][i] = weight\n",
    "    return graph"
   ]
  },
  {
   "cell_type": "markdown",
   "metadata": {},
   "source": [
    "# Inputs"
   ]
  },
  {
   "cell_type": "code",
   "execution_count": 387,
   "metadata": {},
   "outputs": [
    {
     "name": "stdout",
     "output_type": "stream",
     "text": [
      "Data Created with 100 switches\n",
      "Capacity of each switch: 100\n",
      "Packet In Rate: 10\n"
     ]
    }
   ],
   "source": [
    "# Speed is not Required as time is proportional to distance\n",
    "NUM_CONTROLLERS = 10\n",
    "NUM_SWITCHES = 100\n",
    "PACKET_IN = 10\n",
    "CONTROL_CAP = 100\n",
    "SCALE = 500\n",
    "switch_positions = [(random.randint(0, SCALE), random.randint(0, SCALE)) for _ in range(NUM_SWITCHES)]\n",
    "distance_matrix = distance_matrix_generator(switch_positions)\n",
    "print(f\"Data Created with {NUM_SWITCHES} switches\")\n",
    "print(f\"Capacity of each switch: {CONTROL_CAP}\")\n",
    "print(f\"Packet In Rate: {PACKET_IN}\")"
   ]
  },
  {
   "cell_type": "markdown",
   "metadata": {},
   "source": [
    "# Create Model"
   ]
  },
  {
   "cell_type": "code",
   "execution_count": 388,
   "metadata": {},
   "outputs": [
    {
     "name": "stdout",
     "output_type": "stream",
     "text": [
      "Model Created\n",
      "Decision Variables Created\n"
     ]
    }
   ],
   "source": [
    "model = gp.Model(\"Controller_Placement\")\n",
    "print(\"Model Created\")\n",
    "\n",
    "## I am Assuming that controllers are associated with a switch and not in a random location.\n",
    "\n",
    "# Is there a controller associated with the switch\n",
    "associate_controller  = {}\n",
    "for sw in range(NUM_SWITCHES):\n",
    "    associate_controller[sw] = model.addVar(vtype=GRB.BINARY, name=f'ac_{sw}')\n",
    "                                     \n",
    "# Switch Controller Mapping\n",
    "sw_cont_mapping = {}\n",
    "for sw in range(NUM_SWITCHES):\n",
    "    for con in range(NUM_SWITCHES):\n",
    "        sw_cont_mapping[sw, con] = model.addVar(vtype=GRB.BINARY, name=f'map_{sw}_{con}')\n",
    "    \n",
    "print(f\"Decision Variables Created\")"
   ]
  },
  {
   "cell_type": "markdown",
   "metadata": {},
   "source": [
    "# Constraints"
   ]
  },
  {
   "cell_type": "markdown",
   "metadata": {},
   "source": [
    "### 1. Capacity Constraint"
   ]
  },
  {
   "cell_type": "code",
   "execution_count": 389,
   "metadata": {},
   "outputs": [],
   "source": [
    "for con in range(NUM_SWITCHES):\n",
    "    model.addConstr(quicksum(\n",
    "                        PACKET_IN*sw_cont_mapping[sw, con]\n",
    "                        for sw in range(NUM_SWITCHES)\n",
    "                    ) <= CONTROL_CAP*associate_controller[con],\n",
    "                    name=f'1_{con}')"
   ]
  },
  {
   "cell_type": "markdown",
   "metadata": {},
   "source": [
    "### 2. Each switch must have a controller"
   ]
  },
  {
   "cell_type": "code",
   "execution_count": 390,
   "metadata": {},
   "outputs": [],
   "source": [
    "for sw in range(NUM_SWITCHES):\n",
    "    model.addConstr(quicksum(\n",
    "                        sw_cont_mapping[sw, con]\n",
    "                        for con in range(NUM_SWITCHES)\n",
    "                    ) == 1,\n",
    "                    name=f'2_{sw}')"
   ]
  },
  {
   "cell_type": "markdown",
   "metadata": {},
   "source": [
    "### 3. If a switch is associated with a controller then it is mapped to the contoller"
   ]
  },
  {
   "cell_type": "code",
   "execution_count": 391,
   "metadata": {},
   "outputs": [],
   "source": [
    "for con in range(NUM_SWITCHES):\n",
    "    model.addConstr( sw_cont_mapping[con, con] == associate_controller[con],\n",
    "                    name=f'3_{con}')"
   ]
  },
  {
   "cell_type": "markdown",
   "metadata": {},
   "source": [
    "### 4. Fix the number of controllers"
   ]
  },
  {
   "cell_type": "code",
   "execution_count": 392,
   "metadata": {},
   "outputs": [
    {
     "data": {
      "text/plain": [
       "<gurobi.Constr *Awaiting Model Update*>"
      ]
     },
     "execution_count": 392,
     "metadata": {},
     "output_type": "execute_result"
    }
   ],
   "source": [
    "model.addConstr( quicksum(\n",
    "                    associate_controller[con]\n",
    "                    for con in range(NUM_SWITCHES)\n",
    "                    ) == NUM_CONTROLLERS, \n",
    "                name=f'4_{con}')"
   ]
  },
  {
   "cell_type": "markdown",
   "metadata": {},
   "source": [
    "# Objective"
   ]
  },
  {
   "cell_type": "code",
   "execution_count": 393,
   "metadata": {},
   "outputs": [],
   "source": [
    "# Minimize the CC distance and CS distance\n",
    "\n",
    "cc_distance = quicksum(\n",
    "                associate_controller[sw]*associate_controller[con]*distance_matrix[sw][con]\n",
    "                for sw in range(NUM_SWITCHES)\n",
    "                for con in range(NUM_SWITCHES)\n",
    "            )\n",
    "\n",
    "sc_distance = quicksum(\n",
    "                distance_matrix[sw][con]*sw_cont_mapping[sw, con]\n",
    "                for sw in range(NUM_SWITCHES)\n",
    "                for con in range(NUM_SWITCHES)\n",
    "            )\n",
    "\n",
    "model.setObjective( 0.05*cc_distance + sc_distance, GRB.MINIMIZE)"
   ]
  },
  {
   "cell_type": "markdown",
   "metadata": {},
   "source": [
    "# Optimization"
   ]
  },
  {
   "cell_type": "code",
   "execution_count": 394,
   "metadata": {},
   "outputs": [
    {
     "name": "stdout",
     "output_type": "stream",
     "text": [
      "Gurobi Optimizer version 10.0.3 build v10.0.3rc0 (linux64)\n",
      "\n",
      "CPU model: Intel(R) Core(TM) i7-10750H CPU @ 2.60GHz, instruction set [SSE2|AVX|AVX2]\n",
      "Thread count: 6 physical cores, 12 logical processors, using up to 12 threads\n",
      "\n",
      "Optimize a model with 301 rows, 10100 columns and 20400 nonzeros\n",
      "Model fingerprint: 0x0ae6e50c\n",
      "Model has 4950 quadratic objective terms\n",
      "Variable types: 0 continuous, 10100 integer (10100 binary)\n",
      "Coefficient statistics:\n",
      "  Matrix range     [1e+00, 1e+02]\n",
      "  Objective range  [2e+00, 6e+02]\n",
      "  QObjective range [4e-01, 1e+02]\n",
      "  Bounds range     [1e+00, 1e+00]\n",
      "  RHS range        [1e+00, 1e+01]\n",
      "Found heuristic solution: objective 25418.373523\n",
      "Presolve removed 100 rows and 100 columns\n",
      "Presolve time: 0.06s\n",
      "Presolved: 5151 rows, 14950 columns, 34950 nonzeros\n",
      "Variable types: 0 continuous, 14950 integer (14950 binary)\n",
      "\n",
      "Root relaxation: objective 2.529385e+03, 318 iterations, 0.03 seconds (0.02 work units)\n",
      "\n",
      "    Nodes    |    Current Node    |     Objective Bounds      |     Work\n",
      " Expl Unexpl |  Obj  Depth IntInf | Incumbent    BestBd   Gap | It/Node Time\n",
      "\n",
      "     0     0 2529.38456    0  146 25418.3735 2529.38456  90.0%     -    0s\n",
      "H    0     0                    23382.800673 2529.38456  89.2%     -    0s\n",
      "H    0     0                    22385.342203 2529.38456  88.7%     -    0s\n",
      "H    0     0                    21692.979393 2529.38456  88.3%     -    0s\n",
      "H    0     0                    20158.414864 2529.38456  87.5%     -    0s\n",
      "H    0     0                    19549.890174 2678.10950  86.3%     -    0s\n",
      "H    0     0                    9339.2547407 2678.10950  71.3%     -    1s\n",
      "     0     0 3842.85870    0  224 9339.25474 3842.85870  58.9%     -    1s\n",
      "     0     0 3882.12756    0  256 9339.25474 3882.12756  58.4%     -    1s\n",
      "     0     0 3882.12756    0  244 9339.25474 3882.12756  58.4%     -    1s\n",
      "     0     0 4566.18113    0  333 9339.25474 4566.18113  51.1%     -    1s\n",
      "     0     0 4669.94181    0  354 9339.25474 4669.94181  50.0%     -    2s\n",
      "H    0     0                    9167.9228393 4669.94181  49.1%     -    2s\n",
      "     0     0 4686.77133    0  379 9167.92284 4686.77133  48.9%     -    2s\n",
      "     0     0 5032.50350    0  473 9167.92284 5032.50350  45.1%     -    2s\n",
      "     0     0 5032.50350    0  473 9167.92284 5032.50350  45.1%     -    2s\n",
      "     0     2 5042.49778    0  473 9167.92284 5042.49778  45.0%     -    3s\n",
      "    31    38 5397.28415    6  525 9167.92284 5388.51132  41.2%   326    5s\n",
      "H   36    38                    9027.2466682 5388.51132  40.3%   284    5s\n",
      "H   66    77                    8975.5415056 5388.51132  40.0%   204    5s\n",
      "H   88    99                    8096.5262080 5388.51132  33.4%   202    6s\n",
      "H   95    99                    8091.1674844 5388.51132  33.4%   195    6s\n",
      "H   98   109                    8068.9451663 5388.51132  33.2%   194    6s\n",
      "H  101   109                    8028.6550679 5388.51132  32.9%   190    6s\n",
      "H  105   109                    7952.1655894 5388.51132  32.2%   189    6s\n",
      "H  153   161                    7877.6899190 5388.51132  31.6%   187    7s\n",
      "H  157   161                    7771.6284769 5388.51132  30.7%   189    7s\n",
      "H  175   196                    7718.0692059 5388.51132  30.2%   194    8s\n",
      "H  200   209                    7680.4549039 5388.51132  29.8%   189    8s\n",
      "H  224   237                    7617.4243216 5388.51132  29.3%   186    8s\n",
      "H  276   287                    7544.5570071 5388.51132  28.6%   182   10s\n",
      "H  276   287                    7503.5440594 5388.51132  28.2%   182   10s\n",
      "H  281   287                    7304.1987263 5388.51132  26.2%   184   10s\n",
      "H  412   436                    7202.7314697 5388.51132  25.2%   170   12s\n",
      "H  420   436                    7192.7273285 5388.51132  25.1%   170   12s\n",
      "H  429   436                    7182.3936237 5388.51132  25.0%   168   12s\n",
      "H  606   562                    7107.3722251 5388.51132  24.2%   146   14s\n",
      "   675   651 5735.37836    6  524 7107.37223 5400.14602  24.0%   139   15s\n",
      "H  860   654                    6785.6391663 5400.14602  20.4%   125   16s\n",
      "H 1217   913                    6730.2910371 5438.21602  19.2%   113   19s\n",
      "  1263   914 6202.67777   12 2576 6730.29104 5438.21602  19.2%   112   20s\n",
      "  1277   923 6524.53526   28  585 6730.29104 5505.26439  18.2%   110   25s\n",
      "  1289   931 6358.90274   30  815 6730.29104 5797.02838  13.9%   109   30s\n",
      "  1300   939 5869.18979   19  949 6730.29104 5869.18979  12.8%   108   35s\n",
      "  1308   944 6600.38568   35  976 6730.29104 5901.43055  12.3%   108   40s\n",
      "  1316   949 6177.16381   13 1086 6730.29104 5916.13107  12.1%   107   47s\n",
      "  1320   952 6355.79859   51 1091 6730.29104 5937.41820  11.8%   107   50s\n",
      "  1327   957 6164.96130   37 1164 6730.29104 5945.04158  11.7%   106   58s\n",
      "  1331   959 6245.74104   34 1202 6730.29104 5957.05218  11.5%   106   60s\n",
      "H 1340   915                    6722.2825610 5964.62430  11.3%   105   84s\n",
      "H 1342   870                    6721.3311006 5966.62683  11.2%   105   85s\n",
      "H 1342   825                    6706.3057782 5966.62683  11.0%   105   85s\n",
      "  1347   828 5970.21813   23 1275 6706.30578 5970.21813  11.0%   105   96s\n",
      "  1352   831 6465.27951   60 1318 6706.30578 5975.03195  10.9%   104  100s\n",
      "  1358   835 6695.13558   43 1297 6706.30578 5975.07213  10.9%   104  106s\n",
      "  1359   836 6514.45435   27 1297 6706.30578 5976.31937  10.9%   104  118s\n",
      "  1360   840 5977.90526   14 1187 6706.30578 5976.31937  10.9%   138  124s\n",
      "  1362   843 5980.11000   15 1144 6706.30578 5978.16107  10.9%   144  127s\n",
      "  1366   848 5983.64762   16 1093 6706.30578 5980.13950  10.8%   150  130s\n",
      "  1384   860 5988.41295   18 1070 6706.30578 5986.03363  10.7%   164  135s\n",
      "  1405   878 6168.42078   19  932 6706.30578 5990.52464  10.7%   177  143s\n",
      "  1424   890 6179.82029   20  916 6706.30578 5992.18291  10.6%   190  146s\n",
      "  1445   905 5999.22250   22  991 6706.30578 5994.41763  10.6%   201  151s\n",
      "H 1463   869                    6675.0747795 5999.24443  10.1%   209  152s\n",
      "  1482   889 6205.65210   23  907 6675.07478 6010.26363  10.0%   219  156s\n",
      "H 1495   860                    6667.0862025 6010.26363  9.85%   223  158s\n",
      "H 1498   820                    6666.5252613 6010.27451  9.84%   225  158s\n",
      "  1512   836 6247.00039   24  868 6666.52526 6015.74613  9.76%   229  160s\n",
      "  1572   866 6040.13691   26  911 6666.52526 6024.98013  9.62%   240  165s\n",
      "  1637   878 6304.77156   27  865 6666.52526 6051.94322  9.22%   250  172s\n",
      "  1655   891 6075.27786   28  851 6666.52526 6075.27786  8.87%   255  175s\n",
      "  1706   906 6128.49766   30  839 6666.52526 6103.54862  8.44%   267  181s\n",
      "H 1735   871                    6665.7093253 6103.54862  8.43%   272  183s\n",
      "  1745   874 6409.51357   31  819 6665.70933 6103.54862  8.43%   279  186s\n",
      "  1792   899 6221.03602   33  865 6665.70933 6103.54862  8.43%   293  192s\n",
      "  1822   899 6231.72669   34  842 6665.70933 6103.54862  8.43%   299  195s\n",
      "  1901   896 6277.84472   35  837 6665.70933 6103.54862  8.43%   303  201s\n",
      "  1970   921 6286.13384   36  820 6665.70933 6103.54862  8.43%   312  207s\n",
      "  1995   942 6310.75996   37  813 6665.70933 6103.54862  8.43%   316  211s\n",
      "  2092   955 6341.73167   39  750 6665.70933 6103.54862  8.43%   326  217s\n",
      "  2120   961 6368.81424   40  742 6665.70933 6103.54862  8.43%   332  223s\n",
      "  2152   969 6389.59500   41  742 6665.70933 6103.54862  8.43%   340  228s\n",
      "  2186   979 6411.99403   42  761 6665.70933 6103.54862  8.43%   348  233s\n",
      "  2212  1021 6486.61847   43  718 6665.70933 6103.54862  8.43%   354  238s\n",
      "  2288   998 6503.57269   44  692 6665.70933 6103.54862  8.43%   355  242s\n",
      "  2317   995     cutoff   46      6665.70933 6103.54862  8.43%   363  260s\n",
      "  2327  1027     cutoff   47      6665.70933 6103.54862  8.43%   366  266s\n",
      "  2406  1016     cutoff   50      6665.70933 6173.84645  7.38%   368  271s\n",
      "  2438  1039 6274.07998   18  812 6665.70933 6173.84645  7.38%   378  276s\n",
      "  2482  1062 6368.55330   26  710 6665.70933 6173.84645  7.38%   387  287s\n",
      "  2544  1084 6571.71850   43  534 6665.70933 6184.93550  7.21%   393  291s\n",
      "  2613  1120 6222.15010   23  914 6665.70933 6193.64244  7.08%   398  295s\n",
      "  2702  1149 6308.17212   30  767 6665.70933 6193.64244  7.08%   401  300s\n",
      "\n",
      "Cutting planes:\n",
      "  Gomory: 8\n",
      "  Cover: 373\n",
      "  Clique: 252\n",
      "  MIR: 107\n",
      "  StrongCG: 7\n",
      "  Flow cover: 319\n",
      "  Zero half: 8\n",
      "  RLT: 59\n",
      "  BQP: 1060\n",
      "  PSD: 27\n",
      "\n",
      "Explored 2787 nodes (1115478 simplex iterations) in 300.03 seconds (409.63 work units)\n",
      "Thread count was 12 (of 12 available processors)\n",
      "\n",
      "Solution count 10: 6665.71 6666.53 6667.09 ... 7107.37\n",
      "\n",
      "Solve interrupted\n",
      "Best objective 6.665709325281e+03, best bound 6.193642435289e+03, gap 7.0820%\n",
      "\n",
      "User-callback calls 47699, time in user-callback 0.45 sec\n"
     ]
    }
   ],
   "source": [
    "start_time = time()\n",
    "max_time = 5*60 # 5 minutes\n",
    "\n",
    "# Terminate the model after 5 minutes\n",
    "def model_callback(model, where):\n",
    "    if max_time < time() - start_time:\n",
    "        model.terminate()\n",
    "\n",
    "model.optimize(callback=model_callback)"
   ]
  },
  {
   "cell_type": "markdown",
   "metadata": {},
   "source": [
    "# Analysis"
   ]
  },
  {
   "cell_type": "code",
   "execution_count": 395,
   "metadata": {},
   "outputs": [
    {
     "name": "stdout",
     "output_type": "stream",
     "text": [
      "Objective Value: 6665.70932528145\n"
     ]
    },
    {
     "data": {
      "text/plain": [
       "{52: [0, 8, 12, 48, 49, 52, 90, 94, 95, 98],\n",
       " 80: [1, 20, 24, 26, 38, 43, 73, 76, 78, 80],\n",
       " 84: [2, 5, 15, 37, 42, 68, 72, 83, 84, 85],\n",
       " 58: [3, 7, 41, 58, 60, 63, 70, 92, 97, 99],\n",
       " 16: [4, 16, 23, 40, 47, 53, 69, 71, 75, 87],\n",
       " 18: [6, 18, 21, 36, 45, 46, 51, 56, 57, 82],\n",
       " 33: [9, 25, 28, 30, 33, 35, 67, 77, 88, 96],\n",
       " 32: [10, 11, 29, 32, 61, 66, 74, 79, 81, 86],\n",
       " 55: [13, 19, 31, 34, 50, 54, 55, 59, 89, 93],\n",
       " 44: [14, 17, 22, 27, 39, 44, 62, 64, 65, 91]}"
      ]
     },
     "execution_count": 395,
     "metadata": {},
     "output_type": "execute_result"
    }
   ],
   "source": [
    "con_sw_map = dict()\n",
    "\n",
    "for sw in range(NUM_SWITCHES):\n",
    "    for con in range(NUM_SWITCHES):\n",
    "        if sw_cont_mapping[sw, con].x == 1:\n",
    "            if con not in con_sw_map:\n",
    "                con_sw_map[con] = []\n",
    "            con_sw_map[con].append(sw)\n",
    "\n",
    "print(f\"Objective Value: {model.objVal}\")\n",
    "con_sw_map"
   ]
  },
  {
   "cell_type": "code",
   "execution_count": 396,
   "metadata": {},
   "outputs": [
    {
     "data": {
      "text/plain": [
       "<matplotlib.collections.PathCollection at 0x7f0e50d22650>"
      ]
     },
     "execution_count": 396,
     "metadata": {},
     "output_type": "execute_result"
    },
    {
     "data": {
      "image/png": "[encoded data removed]",
      "text/plain": [
       "<Figure size 800x800 with 1 Axes>"
      ]
     },
     "metadata": {},
     "output_type": "display_data"
    }
   ],
   "source": [
    "X = [switch_positions[i][0] for i in range(NUM_SWITCHES)]\n",
    "Y = [switch_positions[i][1] for i in range(NUM_SWITCHES)]\n",
    "color = ['red' if i in con_sw_map else 'blue' for i in range(NUM_SWITCHES)]\n",
    "\n",
    "plt.figure(figsize=(8, 8))\n",
    "plt.title(\"Switch Controller Plot\")\n",
    "plt.scatter(X, Y, c=color, s=40)"
   ]
  },
  {
   "cell_type": "code",
   "execution_count": null,
   "metadata": {},
   "outputs": [],
   "source": []
  }
 ],
 "metadata": {
  "kernelspec": {
   "display_name": ".env",
   "language": "python",
   "name": "python3"
  },
  "language_info": {
   "codemirror_mode": {
    "name": "ipython",
    "version": 3
   },
   "file_extension": ".py",
   "mimetype": "text/x-python",
   "name": "python",
   "nbconvert_exporter": "python",
   "pygments_lexer": "ipython3",
   "version": "3.10.12"
  },
  "orig_nbformat": 4
 },
 "nbformat": 4,
 "nbformat_minor": 2
}
